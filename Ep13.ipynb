{
 "cells": [
  {
   "cell_type": "code",
   "execution_count": 1,
   "metadata": {},
   "outputs": [],
   "source": [
    "from django.template.loader import render_to_string"
   ]
  },
  {
   "cell_type": "code",
   "execution_count": 2,
   "metadata": {},
   "outputs": [
    {
     "data": {
      "text/plain": [
       "'안녕하세요 님. TaskCompany 대표 박성운입니다.\\n\\n귀하의 가입을 진심으로 축하드리며\\n\\n앞으로 인생의 꽃을 빛내실수 있도록 저희가\\n\\n두 팔 걷어 열심히 돕겠습니다\\n\\n감사합니다.\\n\\n, \\n'"
      ]
     },
     "execution_count": 2,
     "metadata": {},
     "output_type": "execute_result"
    }
   ],
   "source": [
    "render_to_string('accounts/signup_welcome.txt')"
   ]
  },
  {
   "cell_type": "code",
   "execution_count": 7,
   "metadata": {},
   "outputs": [
    {
     "name": "stdout",
     "output_type": "stream",
     "text": [
      "안녕하세요 찡긋님. TaskCompany 대표 박성운입니다.\n",
      "\n",
      "귀하의 가입을 진심으로 축하드리며\n",
      "\n",
      "앞으로 인생의 꽃을 빛내실수 있도록 저희가\n",
      "\n",
      "두 팔 걷어 열심히 돕겠습니다\n",
      "\n",
      "감사합니다.\n",
      "\n",
      "2018년 7월 13일\n",
      "\n"
     ]
    }
   ],
   "source": [
    "message = render_to_string('accounts/signup_welcome.txt', {'name': '찡긋', 'when':'2018년 7월 13일'})\n",
    "print(message)"
   ]
  },
  {
   "cell_type": "code",
   "execution_count": null,
   "metadata": {},
   "outputs": [],
   "source": []
  }
 ],
 "metadata": {
  "kernelspec": {
   "display_name": "Django Shell-Plus",
   "language": "python",
   "name": "django_extensions"
  },
  "language_info": {
   "codemirror_mode": {
    "name": "ipython",
    "version": 3
   },
   "file_extension": ".py",
   "mimetype": "text/x-python",
   "name": "python",
   "nbconvert_exporter": "python",
   "pygments_lexer": "ipython3",
   "version": "3.6.5"
  }
 },
 "nbformat": 4,
 "nbformat_minor": 2
}
