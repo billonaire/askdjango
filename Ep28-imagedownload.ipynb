{
 "cells": [
  {
   "cell_type": "code",
   "execution_count": 1,
   "metadata": {},
   "outputs": [],
   "source": [
    "image_url = \"http://farm9.staticflickr.com/8187/8405675079_55dc2df45f.jpg\"\n",
    "\n",
    "import requests\n",
    "\n",
    "image_binary = requests.get(image_url).content\n",
    "\n",
    "with open(\"lastofus.jpg\",\"wb\") as f :\n",
    "    f.write(image_binary)"
   ]
  },
  {
   "cell_type": "code",
   "execution_count": 2,
   "metadata": {},
   "outputs": [],
   "source": [
    "from PIL import Image # pillow\n",
    "lastofus_image = Image.open(\"lastofus.jpg\")"
   ]
  },
  {
   "cell_type": "code",
   "execution_count": 3,
   "metadata": {},
   "outputs": [],
   "source": [
    "from pilkit.processors import Thumbnail\n",
    "\n",
    "processor = Thumbnail(width=300, height=300)"
   ]
  },
  {
   "cell_type": "code",
   "execution_count": 4,
   "metadata": {},
   "outputs": [],
   "source": [
    "thumb_image = processor.process(lastofus_image)"
   ]
  },
  {
   "cell_type": "code",
   "execution_count": 5,
   "metadata": {},
   "outputs": [],
   "source": [
    "thumb_image.save(\"thumb-300x300.png\")\n",
    "thumb_image.mode ='RGB'\n",
    "for quality in [100,80,60,40,20]:\n",
    "    thumb_image.save(\"thumb-300x300-{}.jpg\".format(quality), quality=quality)"
   ]
  },
  {
   "cell_type": "code",
   "execution_count": null,
   "metadata": {},
   "outputs": [],
   "source": []
  }
 ],
 "metadata": {
  "kernelspec": {
   "display_name": "Django Shell-Plus",
   "language": "python",
   "name": "django_extensions"
  },
  "language_info": {
   "codemirror_mode": {
    "name": "ipython",
    "version": 3
   },
   "file_extension": ".py",
   "mimetype": "text/x-python",
   "name": "python",
   "nbconvert_exporter": "python",
   "pygments_lexer": "ipython3",
   "version": "3.6.5"
  }
 },
 "nbformat": 4,
 "nbformat_minor": 2
}
